{
 "cells": [
  {
   "cell_type": "code",
   "execution_count": 17,
   "metadata": {},
   "outputs": [],
   "source": [
    "import pandas as pd\n",
    "from sklearn.metrics import accuracy_score"
   ]
  },
  {
   "cell_type": "code",
   "execution_count": 19,
   "metadata": {},
   "outputs": [
    {
     "name": "stdout",
     "output_type": "stream",
     "text": [
      "0.84\n",
      "15690\n"
     ]
    }
   ],
   "source": [
    "data = pd.read_csv(\"datasets/out/wiki/run/out0.csv\", header=None)\n",
    "num_rows = data.shape[0]\n",
    "\n",
    "y_true = [0] * (num_rows // 2) + [1] * (num_rows // 2)\n",
    "y_pred = data[2].values\n",
    "\n",
    "print(accuracy_score(y_true, y_pred))\n",
    "\n",
    "# number of 1 in y_pred\n",
    "print(sum(y_pred))"
   ]
  }
 ],
 "metadata": {
  "kernelspec": {
   "display_name": "Python 3",
   "language": "python",
   "name": "python3"
  },
  "language_info": {
   "codemirror_mode": {
    "name": "ipython",
    "version": 3
   },
   "file_extension": ".py",
   "mimetype": "text/x-python",
   "name": "python",
   "nbconvert_exporter": "python",
   "pygments_lexer": "ipython3",
   "version": "3.10.12"
  }
 },
 "nbformat": 4,
 "nbformat_minor": 2
}
